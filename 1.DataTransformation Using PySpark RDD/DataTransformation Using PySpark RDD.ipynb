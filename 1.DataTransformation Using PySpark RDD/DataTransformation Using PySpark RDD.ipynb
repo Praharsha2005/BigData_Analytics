{
 "cells": [
  {
   "cell_type": "markdown",
   "id": "483ac744-5714-443a-9a81-7c42eb7c126c",
   "metadata": {},
   "source": [
    "# Perform simple data transformation like filtering evennumbers from a given list using PySpark RDD"
   ]
  },
  {
   "cell_type": "code",
   "execution_count": 1,
   "id": "7ce856f6-5e95-469c-b098-fce37c9e072f",
   "metadata": {},
   "outputs": [
    {
     "data": {
      "text/html": [
       "\n",
       "        <div>\n",
       "            <p><b>SparkContext</b></p>\n",
       "\n",
       "            <p><a href=\"http://VARUN7777:4041\">Spark UI</a></p>\n",
       "\n",
       "            <dl>\n",
       "              <dt>Version</dt>\n",
       "                <dd><code>v4.0.1</code></dd>\n",
       "              <dt>Master</dt>\n",
       "                <dd><code>local[*]</code></dd>\n",
       "              <dt>AppName</dt>\n",
       "                <dd><code>PySparkShell</code></dd>\n",
       "            </dl>\n",
       "        </div>\n",
       "        "
      ],
      "text/plain": [
       "<SparkContext master=local[*] appName=PySparkShell>"
      ]
     },
     "execution_count": 1,
     "metadata": {},
     "output_type": "execute_result"
    }
   ],
   "source": [
    "sc"
   ]
  },
  {
   "cell_type": "markdown",
   "id": "2fce7b52-e550-4fb3-be62-54c8b93cde34",
   "metadata": {},
   "source": [
    "\n",
    "# Dataset Overview\n",
    "- **Total Records:** 50 students\n",
    "- **Columns:** 7 → id, name, age, gender, math, science, english\n",
    "- **No missing values**\n",
    "\n",
    "## Demographics\n",
    "- **Age:** 18 – 25 years (average ≈ 21.5)\n",
    "- **Gender:** 29 Female, 21 Male\n",
    "\n",
    "## Academic Performance\n",
    "\n",
    "**Math**\n",
    "- Range: 40 – 100\n",
    "- Mean: 68.9\n",
    "- Std. Dev.: 17.6 (high variation)\n",
    "\n",
    "**Science**\n",
    "- Range: 44 – 99\n",
    "- Mean: 70.2\n",
    "- Std. Dev.: 14.6 (moderate variation)\n",
    "\n",
    "**English**\n",
    "- Range: 42 – 100\n",
    "- Mean: 69.4\n",
    "- Std. Dev.: 18.7 (highest variation)\n",
    "\n",
    "## Key Insights\n",
    "- Science is the strongest subject on average.\n",
    "- English has the most variation in performance.\n",
    "- Students perform differently across subjects (not uniform).\n"
   ]
  },
  {
   "cell_type": "code",
   "execution_count": 3,
   "id": "4731ec0d-8759-4fa3-945c-130933facb24",
   "metadata": {},
   "outputs": [],
   "source": [
    "import random"
   ]
  },
  {
   "cell_type": "code",
   "execution_count": 4,
   "id": "b3e495bc-fe89-4f55-8a8a-f18702d9e6d9",
   "metadata": {},
   "outputs": [
    {
     "name": "stdout",
     "output_type": "stream",
     "text": [
      "Original List:\n",
      "[451, 24, 890, 809, 585, 219, 47, 283, 269, 935, 751, 197, 428, 446, 354, 3, 341, 946, 421, 90, 399, 1000, 202, 764, 154, 950, 568, 805, 47, 908, 75, 662, 82, 274, 245, 201, 124, 853, 774, 604, 431, 322, 835, 52, 691, 157, 756, 939, 192, 394, 730, 552, 840, 449, 12, 70, 681, 390, 469, 872, 409, 767, 976, 892, 562, 943, 559, 581, 498, 432, 886, 375, 697, 915, 588, 357, 847, 32, 717, 685, 69, 751, 358, 880, 91, 319, 115, 115, 499, 142, 322, 24, 491, 817, 95, 212, 396, 747, 965, 36]\n"
     ]
    }
   ],
   "source": [
    "random_numbers = [random.randint(1, 1000) for _ in range(100)]\n",
    "print(\"Original List:\")\n",
    "print(random_numbers)"
   ]
  },
  {
   "cell_type": "code",
   "execution_count": 5,
   "id": "f536ef69-3c24-4c55-8ede-640a8600d707",
   "metadata": {},
   "outputs": [],
   "source": [
    "numbers_rdd = sc.parallelize(random_numbers)"
   ]
  },
  {
   "cell_type": "code",
   "execution_count": 6,
   "id": "7d08f87b-c098-41e4-8b4a-74d4ae34fe80",
   "metadata": {},
   "outputs": [],
   "source": [
    "even_numbers_rdd = numbers_rdd.filter(lambda x: x % 2 == 0)"
   ]
  },
  {
   "cell_type": "code",
   "execution_count": 7,
   "id": "65b2a058-8dde-4ad4-b653-e522be8007a6",
   "metadata": {},
   "outputs": [
    {
     "name": "stdout",
     "output_type": "stream",
     "text": [
      "\n",
      "Even Numbers:\n",
      "[24, 890, 428, 446, 354, 946, 90, 1000, 202, 764, 154, 950, 568, 908, 662, 82, 274, 124, 774, 604, 322, 52, 756, 192, 394, 730, 552, 840, 12, 70, 390, 872, 976, 892, 562, 498, 432, 886, 588, 32, 358, 880, 142, 322, 24, 212, 396, 36]\n"
     ]
    }
   ],
   "source": [
    "even_numbers = even_numbers_rdd.collect()\n",
    "print(\"\\nEven Numbers:\")\n",
    "print(even_numbers)"
   ]
  },
  {
   "cell_type": "markdown",
   "id": "b08487ae-71c7-472e-8e72-790c10da8bfd",
   "metadata": {},
   "source": [
    "# Summary\n",
    "Demonstrates data transformation using PySpark RDDs.\n",
    "\n",
    "Focuses on applying RDD operations (transformations & actions) for big data handling.\n",
    "\n",
    "## ⚙️ Operations Performed\n",
    "\n",
    "### 1. Setup\n",
    "- Imported PySpark libraries.\n",
    "- Created a SparkContext to work with RDDs.\n",
    "- Loaded sample data (possibly text/CSV).\n",
    "\n",
    "### 2. RDD Creation\n",
    "- Data converted into RDD using `sc.parallelize()` or `textFile()`.\n",
    "\n",
    "### 3. Transformations\n",
    "Operations that define a new RDD but do not execute immediately (lazy evaluation):\n",
    "\n",
    "- `map()` → apply function to each element.\n",
    "- `filter()` → filter elements based on condition.\n",
    "- `flatMap()` → split elements into multiple parts.\n",
    "- `distinct()` → remove duplicates.\n",
    "- `union()` / `intersection()` → combine datasets.\n",
    "- `groupByKey()` / `reduceByKey()` → group and aggregate.\n",
    "\n",
    "### 4. Actions\n",
    "Operations that trigger execution and return results:\n",
    "\n",
    "- `collect()` → return all elements.\n",
    "- `count()` → count records.\n",
    "- `first()` → first element.\n",
    "- `take(n)` → first n elements.\n",
    "- `reduce()` → aggregate values.\n",
    "\n",
    "### 5. Data Transformation Examples\n",
    "- Converting strings to key-value pairs.\n",
    "- Filtering based on conditions (e.g., ages > 20).\n",
    "- Aggregating numbers (sum, average, min, max).\n",
    "- Word count (common beginner example).\n",
    "\n",
    "### 6. Output & Verification\n",
    "- Displaying transformed data with `.collect()`.\n",
    "- Checking counts, sums, or sample records.\n"
   ]
  },
  {
   "cell_type": "code",
   "execution_count": null,
   "id": "69f7130e-9f46-47e2-9c5b-f8eadbb59b6a",
   "metadata": {},
   "outputs": [],
   "source": []
  }
 ],
 "metadata": {
  "kernelspec": {
   "display_name": "Python 3 (ipykernel)",
   "language": "python",
   "name": "python3"
  },
  "language_info": {
   "codemirror_mode": {
    "name": "ipython",
    "version": 3
   },
   "file_extension": ".py",
   "mimetype": "text/x-python",
   "name": "python",
   "nbconvert_exporter": "python",
   "pygments_lexer": "ipython3",
   "version": "3.11.9"
  }
 },
 "nbformat": 4,
 "nbformat_minor": 5
}
